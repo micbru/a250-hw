{
 "cells": [
  {
   "cell_type": "markdown",
   "metadata": {},
   "source": [
    "# Interaction with the World Homework (#3)\n",
    "Python Computing for Data Science (c) J Bloom, UC Berkeley 2018\n",
    "\n",
    "Due Tuesday 2pm, Feb 20, 2018"
   ]
  },
  {
   "cell_type": "markdown",
   "metadata": {},
   "source": [
    "# 1) Monty: The Python Siri\n",
    "\n",
    "Let's make a Siri-like program (call it Monty!) with the following properties:\n",
    "   - record your voice command\n",
    "   - use a webservice to parse that sound file into text\n",
    "   - based on what the text, take three different types of actions:\n",
    "       - send an email to yourself\n",
    "       - do some math\n",
    "       - tell a joke\n",
    "\n",
    "So for example, if you say \"Monty: email me with subject hello and body goodbye\", it will email you with the appropriate subject and body. If you say \"Monty: tell me a joke\" then it will go to the web and find a joke and print it for you. If you say, \"Monty: calculate two times three\" it should response with printing the number 6.\n",
    "\n",
    "Hint: you can use speed-to-text apps like Houndify (or, e.g., Google Speech https://cloud.google.com/speech/) to return the text (but not do the actions). You'll need to sign up for a free API and then follow documentation instructions for using the service within Python. "
   ]
  },
  {
   "cell_type": "markdown",
   "metadata": {},
   "source": [
    "### Record and input text for Monty"
   ]
  },
  {
   "cell_type": "code",
   "execution_count": 16,
   "metadata": {},
   "outputs": [],
   "source": [
    "# First we need to record a voice command. The code for this was in lecture, so let's make a function:\n",
    "def record_audio(speech_file,time=5):\n",
    "    '''\n",
    "    This will record audio to filename speech_file for the number of seconds specified by time.\n",
    "    Please pass speech_file as a string with .wav file extension.\n",
    "    '''\n",
    "    # Set up some parameters\n",
    "    import pyaudio\n",
    "    chunk = 1024\n",
    "    # Must be 16 to interface with google api\n",
    "    FORMAT = pyaudio.paInt16\n",
    "    CHANNELS = 1\n",
    "    RATE = 44100\n",
    "    RECORD_SECONDS = time\n",
    "    WAVE_OUTPUT_FILENAME = speech_file\n",
    "    p = pyaudio.PyAudio()\n",
    "    \n",
    "    # Get the data\n",
    "    stream = p.open(format = FORMAT,\n",
    "        channels = CHANNELS,\n",
    "        rate = RATE,\n",
    "        input = True,\n",
    "        frames_per_buffer = chunk)\n",
    "    all = []\n",
    "    print(\"Start recording\")\n",
    "    for i in range(0, int(RATE / chunk * RECORD_SECONDS)):\n",
    "        data = stream.read(chunk)\n",
    "        all.append(data)\n",
    "    print(\"Done recording\")\n",
    "    stream.close()\n",
    "    p.terminate()\n",
    "    \n",
    "    # Export to file.\n",
    "    import wave\n",
    "    data = b\"\".join(all)\n",
    "    wf = wave.open(WAVE_OUTPUT_FILENAME, \"wb\")\n",
    "    wf.setnchannels(CHANNELS)\n",
    "    wf.setsampwidth(p.get_sample_size(FORMAT))\n",
    "    wf.setframerate(RATE)\n",
    "    wf.writeframes(data)\n",
    "    wf.close()"
   ]
  },
  {
   "cell_type": "code",
   "execution_count": 17,
   "metadata": {},
   "outputs": [],
   "source": [
    "# This is from https://cloud.google.com/speech/docs/sync-recognize#speech-sync-recognize-python\n",
    "# I did not write this, but it is to go from speech to text.\n",
    "\n",
    "# To get this to work, must set environment properly in shell. Open jupyter notebook from the same folder!\n",
    "# export GOOGLE_APPLICATION_CREDENTIALS=\"./MyFirstProject-c5d149b85549.json\", or your credentials.\n",
    "\n",
    "# Return a string of the transcript\n",
    "def transcribe_file(speech_file):\n",
    "    \"\"\"Transcribe the given audio file.\n",
    "    Returns a string with the results.\"\"\"\n",
    "    import io\n",
    "    from google.cloud import speech\n",
    "    from google.cloud.speech import enums\n",
    "    from google.cloud.speech import types\n",
    "    client = speech.SpeechClient()\n",
    "\n",
    "    with io.open(speech_file, 'rb') as audio_file:\n",
    "        content = audio_file.read()\n",
    "\n",
    "    audio = types.RecognitionAudio(content=content)\n",
    "    config = types.RecognitionConfig(\n",
    "        encoding=enums.RecognitionConfig.AudioEncoding.LINEAR16,\n",
    "        sample_rate_hertz=44100,\n",
    "        language_code='en-US')\n",
    "\n",
    "    response = client.recognize(config, audio)\n",
    "    # Each result is for a consecutive portion of the audio. Iterate through\n",
    "    # them to get the transcripts for the entire audio file.\n",
    "    string_out = \"\"\n",
    "    for result in response.results:\n",
    "        # The first alternative is the most likely one for this portion.\n",
    "        string_out += result.alternatives[0].transcript\n",
    "        \n",
    "    return str(string_out)"
   ]
  },
  {
   "cell_type": "markdown",
   "metadata": {},
   "source": [
    "### Define functions for Monty"
   ]
  },
  {
   "cell_type": "code",
   "execution_count": 37,
   "metadata": {},
   "outputs": [],
   "source": [
    "# Now define the three functions that Monty can do:\n",
    "\n",
    "# First mail:\n",
    "def mail(sender, pwd, to, subject, text):\n",
    "    '''\n",
    "    Will send an email from sender to to.\n",
    "    Must be gmail account.\n",
    "    Requires password as pwd.\n",
    "    Subject and text should be strings.\n",
    "    '''\n",
    "    import smtplib\n",
    "    # I found this to be simpler than in the example.\n",
    "    from email.message import EmailMessage\n",
    "    \n",
    "    msg = EmailMessage()\n",
    "    # Set the text\n",
    "    msg.set_content(text)\n",
    "    \n",
    "    msg['Subject'] = subject\n",
    "    msg['From'] = sender\n",
    "    msg['To'] = to\n",
    "    \n",
    "    # Note that we need to designate the remote SMTP server we want to use.\n",
    "    mailServer = smtplib.SMTP(\"smtp.gmail.com\", 587)\n",
    "    mailServer.starttls()\n",
    "    mailServer.login(sender, pwd)\n",
    "    mailServer.send_message(msg)\n",
    "    mailServer.close()    \n",
    "\n",
    "# Now math:\n",
    "def quick_maths(text):\n",
    "    '''\n",
    "    This will take in a text file, parse it, then do the math.\n",
    "    If you input words, if can only do very specific math: One word, one operation, one word.\n",
    "    Otherwise, it can do any combination.\n",
    "    It will return the evaluation of the math in text.\n",
    "    '''\n",
    "    ################################################################################### \n",
    "    # This is only needed if the text to speech spits out words, which it seems not to.\n",
    "    ################################################################################### \n",
    "    # First we have to parse the string\n",
    "    #str_list = text.split()\n",
    "    # Define a dictionary for numbers.\n",
    "    #num_dict = {\n",
    "    #    \"zero\":0, \"one\":1, \"two\":2, \"three\":3, \"four\":4, \"five\":5, \"six\":6, \"seven\":7, \"eight\":8,\n",
    "    #    \"nine\":9, \"ten\":10, \"eleven\":11, \"twelve\":12, \"thirteen\":13, \"fourteen\":14, \"fifteen\":15,\n",
    "    #    \"sixteen\":16, \"seventeen\":17, \"eighteen\":18, \"nineteen\":19,\n",
    "    #}\n",
    "    \n",
    "    # In the case where we get words, parse them:\n",
    "    # We know the first two elements will be Monty: Caculate\n",
    "    # The third and fifth are numbers, and the fourth is an operation.\n",
    "    #n1 = num_dict[str_list[2]]\n",
    "    #n2 = num_dict[str_list[4]]\n",
    "    \n",
    "    # Now we define a dictionary of allowable operators:\n",
    "    # Over is a weird way to say divided by, but we can't have two words...\n",
    "    #import operator\n",
    "    #operator_dict = {'plus':operator.add(n1,n2),'minus':operator.sub(n1,n2),\n",
    "    #                 'times':operator.mul(n1,n2),'over':operator.truediv(n1,n2)}\n",
    "        \n",
    "    #ans = operator_dict[str_list[3]]\n",
    "    \n",
    "    ################################################################################### \n",
    "    # It seems that we actually get numbers, so use eval, but carefully.\n",
    "    ################################################################################### \n",
    "    # Split the text into a list of strings\n",
    "    str_list = text.split()\n",
    "    # If the list of strings contains divided by or times, or x, but those as operators:\n",
    "    if 'divided' in str_list:\n",
    "        text = text.replace('divided by','/')\n",
    "    if 'x' in str_list:\n",
    "        text = text.replace('x','*')\n",
    "    if 'times' in str_list:\n",
    "        text = text.replace('times','*')\n",
    "    # Now erase all characters that are not numbers or operators:\n",
    "    table = str.maketrans(\"\",\"\",'ABCDEFGHIJKLMNOPQRSTUVWXYZabcdefghijklmnopqrstuvwxyz ?!&\\'')\n",
    "    math_text = text.translate(table)\n",
    "    \n",
    "    # Now use eval and hope it doesn't break!\n",
    "    ans = eval(math_text)\n",
    "    return(ans)\n",
    "    \n",
    "# Finally joke:\n",
    "def joke():\n",
    "    ''' Tell a joke! '''\n",
    "    return('What is Beethoven\\'s favourite fruit?\\nBA NA NA NAaaa')"
   ]
  },
  {
   "cell_type": "markdown",
   "metadata": {},
   "source": [
    "### Test recording and outputting audio"
   ]
  },
  {
   "cell_type": "code",
   "execution_count": 19,
   "metadata": {},
   "outputs": [
    {
     "name": "stdout",
     "output_type": "stream",
     "text": [
      "Start recording\n",
      "Done recording\n"
     ]
    }
   ],
   "source": [
    "# Test audio\n",
    "record_audio('test.wav')\n",
    "string = transcribe_file('test.wav')"
   ]
  },
  {
   "cell_type": "markdown",
   "metadata": {},
   "source": [
    "### Test each function:"
   ]
  },
  {
   "cell_type": "code",
   "execution_count": 32,
   "metadata": {},
   "outputs": [],
   "source": [
    "# Test email function:\n",
    "mail(sender=\"micahbrush@gmail.com\", \n",
    "    pwd=\"2One3442*\", \n",
    "    to=[\"micbru@berkeley.edu\",],   # include an extra comma in the \"to\" list to \n",
    "                                   # account for the COMMASPACE.join(to)\n",
    "    subject=\"Email from Python\", \n",
    "    text=\"Whoooo!\\n\", \n",
    "    )"
   ]
  },
  {
   "cell_type": "code",
   "execution_count": 50,
   "metadata": {},
   "outputs": [
    {
     "name": "stdout",
     "output_type": "stream",
     "text": [
      "What is Beethoven's favourite fruit?\n",
      "BA NA NA NAaaa\n"
     ]
    }
   ],
   "source": [
    "# Test joke function:\n",
    "print(joke())"
   ]
  },
  {
   "cell_type": "code",
   "execution_count": 38,
   "metadata": {},
   "outputs": [
    {
     "data": {
      "text/plain": [
       "2.0"
      ]
     },
     "execution_count": 38,
     "metadata": {},
     "output_type": "execute_result"
    }
   ],
   "source": [
    "# Test maths:\n",
    "quick_maths(\"Monty Calculate 2 times 2 x 2 divided by 4\")"
   ]
  },
  {
   "cell_type": "markdown",
   "metadata": {},
   "source": [
    "### The Monty Function"
   ]
  },
  {
   "cell_type": "code",
   "execution_count": 43,
   "metadata": {},
   "outputs": [
    {
     "ename": "ModuleNotFoundError",
     "evalue": "No module named 'my_credentials'",
     "output_type": "error",
     "traceback": [
      "\u001b[0;31m---------------------------------------------------------------------------\u001b[0m",
      "\u001b[0;31mModuleNotFoundError\u001b[0m                       Traceback (most recent call last)",
      "\u001b[0;32m<ipython-input-43-c4c3c92f4b30>\u001b[0m in \u001b[0;36m<module>\u001b[0;34m()\u001b[0m\n\u001b[1;32m      1\u001b[0m \u001b[0;31m# import my credentials to get this to work:\u001b[0m\u001b[0;34m\u001b[0m\u001b[0;34m\u001b[0m\u001b[0m\n\u001b[0;32m----> 2\u001b[0;31m \u001b[0;32mimport\u001b[0m \u001b[0mmy_credentials\u001b[0m\u001b[0;34m\u001b[0m\u001b[0m\n\u001b[0m\u001b[1;32m      3\u001b[0m \u001b[0;34m\u001b[0m\u001b[0m\n\u001b[1;32m      4\u001b[0m \u001b[0;31m# Make a single function for Monty that will listen in, parse the audio file, then take the appropriate action.\u001b[0m\u001b[0;34m\u001b[0m\u001b[0;34m\u001b[0m\u001b[0m\n\u001b[1;32m      5\u001b[0m def monty(time=5,fname='monty.wav',email=my_credentials.GMAIL_USERNAME,\n",
      "\u001b[0;31mModuleNotFoundError\u001b[0m: No module named 'my_credentials'"
     ]
    }
   ],
   "source": [
    "# import my credentials to get this to work:\n",
    "import my_credentials\n",
    "\n",
    "# Make a single function for Monty that will listen in, parse the audio file, then take the appropriate action.\n",
    "def monty(time=5,fname='monty.wav',email=my_credentials.GMAIL_USERNAME,\n",
    "          pwd=my_credentials.GMAIL_PASSWORD,to=\"micbru@berkeley.edu\"):\n",
    "    '''\n",
    "    Optional inputs are time of recording and name of .wav file we will save to,\n",
    "        as well as email address to send to and from and password.\n",
    "    The voice input only accepts: Monty: email _text_, email with subject ___ and body ____,\n",
    "        if it includes the word calculate it will use those number, and if it includes the \n",
    "        word joke Monty will tell a joke.\n",
    "    '''\n",
    "    # Record the audio and transcribe it to string\n",
    "    record_audio(fname)\n",
    "    text = transcribe_file(fname)\n",
    "    # For feedback:\n",
    "    print(text)\n",
    "    \n",
    "    # Now split the string up:\n",
    "    str_list = text.split()\n",
    "    \n",
    "    # The 0th element should be Monty. The first should be email, or there should be the word joke.\n",
    "    if 'calculate' in str_list:\n",
    "        out = quick_maths(text)\n",
    "    elif 'email' in str_list:\n",
    "        # If the word subject exists in the phrase, find the custom subject and body.\n",
    "        # This accepts email as \n",
    "        # Else, use \"From python\"\n",
    "        if 'subject' in str_list:\n",
    "            i_subject = str_list.index('subject')\n",
    "            i_body = str_list.index('body')\n",
    "            # Exclude the word subject and the \"and body\"\n",
    "            subject = ' '.join(str_list[i_subject+1:i_body-1])\n",
    "            body = ' '.join(str_list[i_body+1::])\n",
    "            mail(email, pwd, to, subject, body)\n",
    "        else:\n",
    "            mail(email, pwd, to, 'From Python', text)\n",
    "        out = \"Email sent to {}\".format(to)\n",
    "    elif 'joke' in str_list:\n",
    "        out = joke()\n",
    "    else:\n",
    "        out = \"\"\n",
    "        print(\"I'm sorry, I don't understand your command: \\n \")\n",
    "        print(text)\n",
    "    # Now print \"out\"\n",
    "    print(out)"
   ]
  },
  {
   "cell_type": "code",
   "execution_count": 41,
   "metadata": {},
   "outputs": [
    {
     "name": "stdout",
     "output_type": "stream",
     "text": [
      "Start recording\n",
      "Done recording\n",
      "multi calculate 2 * 2 + 3 - 1 / 1\n",
      "6.0\n",
      "Start recording\n",
      "Done recording\n",
      "what is an email with subject hi and body how's it going\n",
      "Email sent to micbru@berkeley.edu\n",
      "Start recording\n",
      "Done recording\n",
      "multi tell me a joke\n",
      "What is Beethoven's favourite fruit?\n",
      "BA NA NA NAaaa\n"
     ]
    }
   ],
   "source": [
    "# Test the Monty function!\n",
    "monty(fname='calculate.wav',time=15)\n",
    "monty(fname='email.wav',time=25)\n",
    "monty(fname='joke.wav',time=15)"
   ]
  },
  {
   "cell_type": "markdown",
   "metadata": {},
   "source": [
    "# 2) Write a program that identifies musical notes from sound (AIFF) files. \n",
    "\n",
    "  - Run it on the supplied sound files (12) and report your program’s results. \n",
    "  - Use the labeled sounds (4) to make sure it works correctly. The provided sound files contain 1-3 simultaneous notes from different organs.\n",
    "  - Save copies of any example plots to illustrate how your program works.\n",
    "  \n",
    "  https://piazza.com/berkeley/spring2018/ay250class13410/resources -> Homeworks -> hw3_sound_files.zip"
   ]
  },
  {
   "cell_type": "markdown",
   "metadata": {},
   "source": [
    "Hints: You’ll want to decompose the sound into a frequency power spectrum. Use a Fast Fourier Transform. Be care about “unpacking” the string hexcode into python data structures. The sound files use 32 bit data. Play around with what happens when you convert the string data to other integer sizes, or signed vs unsigned integers. Also, beware of harmonics."
   ]
  },
  {
   "cell_type": "code",
   "execution_count": null,
   "metadata": {
    "collapsed": true
   },
   "outputs": [],
   "source": []
  }
 ],
 "metadata": {
  "kernelspec": {
   "display_name": "Python 3",
   "language": "python",
   "name": "python3"
  },
  "language_info": {
   "codemirror_mode": {
    "name": "ipython",
    "version": 3
   },
   "file_extension": ".py",
   "mimetype": "text/x-python",
   "name": "python",
   "nbconvert_exporter": "python",
   "pygments_lexer": "ipython3",
   "version": "3.6.0"
  }
 },
 "nbformat": 4,
 "nbformat_minor": 1
}
